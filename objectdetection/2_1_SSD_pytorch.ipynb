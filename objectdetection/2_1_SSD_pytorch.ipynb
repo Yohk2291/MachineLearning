{
  "nbformat": 4,
  "nbformat_minor": 0,
  "metadata": {
    "colab": {
      "name": "2-1_SSD_pytorch.ipynb",
      "provenance": [],
      "collapsed_sections": [],
      "include_colab_link": true
    },
    "kernelspec": {
      "name": "python3",
      "display_name": "Python 3"
    },
    "accelerator": "GPU"
  },
  "cells": [
    {
      "cell_type": "markdown",
      "metadata": {
        "id": "view-in-github",
        "colab_type": "text"
      },
      "source": [
        "<a href=\"https://colab.research.google.com/github/Yohk2291/MachineLearning/blob/master/objectdetection/2_1_SSD_pytorch.ipynb\" target=\"_parent\"><img src=\"https://colab.research.google.com/assets/colab-badge.svg\" alt=\"Open In Colab\"/></a>"
      ]
    },
    {
      "cell_type": "code",
      "metadata": {
        "id": "LwA65TbpLNuI",
        "colab_type": "code",
        "outputId": "26070bdd-4961-42e1-ac17-0502f461f4ff",
        "colab": {
          "base_uri": "https://localhost:8080/",
          "height": 153
        }
      },
      "source": [
        "!git clone https://github.com/Yohk2291/MachineLearning.git\n",
        "%cd MachineLearning/\n",
        "%cd objectdetection/"
      ],
      "execution_count": 0,
      "outputs": [
        {
          "output_type": "stream",
          "text": [
            "Cloning into 'MachineLearning'...\n",
            "remote: Enumerating objects: 89, done.\u001b[K\n",
            "remote: Counting objects:   1% (1/89)\u001b[K\rremote: Counting objects:   2% (2/89)\u001b[K\rremote: Counting objects:   3% (3/89)\u001b[K\rremote: Counting objects:   4% (4/89)\u001b[K\rremote: Counting objects:   5% (5/89)\u001b[K\rremote: Counting objects:   6% (6/89)\u001b[K\rremote: Counting objects:   7% (7/89)\u001b[K\rremote: Counting objects:   8% (8/89)\u001b[K\rremote: Counting objects:  10% (9/89)\u001b[K\rremote: Counting objects:  11% (10/89)\u001b[K\rremote: Counting objects:  12% (11/89)\u001b[K\rremote: Counting objects:  13% (12/89)\u001b[K\rremote: Counting objects:  14% (13/89)\u001b[K\rremote: Counting objects:  15% (14/89)\u001b[K\rremote: Counting objects:  16% (15/89)\u001b[K\rremote: Counting objects:  17% (16/89)\u001b[K\rremote: Counting objects:  19% (17/89)\u001b[K\rremote: Counting objects:  20% (18/89)\u001b[K\rremote: Counting objects:  21% (19/89)\u001b[K\rremote: Counting objects:  22% (20/89)\u001b[K\rremote: Counting objects:  23% (21/89)\u001b[K\rremote: Counting objects:  24% (22/89)\u001b[K\rremote: Counting objects:  25% (23/89)\u001b[K\rremote: Counting objects:  26% (24/89)\u001b[K\rremote: Counting objects:  28% (25/89)\u001b[K\rremote: Counting objects:  29% (26/89)\u001b[K\rremote: Counting objects:  30% (27/89)\u001b[K\rremote: Counting objects:  31% (28/89)\u001b[K\rremote: Counting objects:  32% (29/89)\u001b[K\rremote: Counting objects:  33% (30/89)\u001b[K\rremote: Counting objects:  34% (31/89)\u001b[K\rremote: Counting objects:  35% (32/89)\u001b[K\rremote: Counting objects:  37% (33/89)\u001b[K\rremote: Counting objects:  38% (34/89)\u001b[K\rremote: Counting objects:  39% (35/89)\u001b[K\rremote: Counting objects:  40% (36/89)\u001b[K\rremote: Counting objects:  41% (37/89)\u001b[K\rremote: Counting objects:  42% (38/89)\u001b[K\rremote: Counting objects:  43% (39/89)\u001b[K\rremote: Counting objects:  44% (40/89)\u001b[K\rremote: Counting objects:  46% (41/89)\u001b[K\rremote: Counting objects:  47% (42/89)\u001b[K\rremote: Counting objects:  48% (43/89)\u001b[K\rremote: Counting objects:  49% (44/89)\u001b[K\rremote: Counting objects:  50% (45/89)\u001b[K\rremote: Counting objects:  51% (46/89)\u001b[K\rremote: Counting objects:  52% (47/89)\u001b[K\rremote: Counting objects:  53% (48/89)\u001b[K\rremote: Counting objects:  55% (49/89)\u001b[K\rremote: Counting objects:  56% (50/89)\u001b[K\rremote: Counting objects:  57% (51/89)\u001b[K\rremote: Counting objects:  58% (52/89)\u001b[K\rremote: Counting objects:  59% (53/89)\u001b[K\rremote: Counting objects:  60% (54/89)\u001b[K\rremote: Counting objects:  61% (55/89)\u001b[K\rremote: Counting objects:  62% (56/89)\u001b[K\rremote: Counting objects:  64% (57/89)\u001b[K\rremote: Counting objects:  65% (58/89)\u001b[K\rremote: Counting objects:  66% (59/89)\u001b[K\rremote: Counting objects:  67% (60/89)\u001b[K\rremote: Counting objects:  68% (61/89)\u001b[K\rremote: Counting objects:  69% (62/89)\u001b[K\rremote: Counting objects:  70% (63/89)\u001b[K\rremote: Counting objects:  71% (64/89)\u001b[K\rremote: Counting objects:  73% (65/89)\u001b[K\rremote: Counting objects:  74% (66/89)\u001b[K\rremote: Counting objects:  75% (67/89)\u001b[K\rremote: Counting objects:  76% (68/89)\u001b[K\rremote: Counting objects:  77% (69/89)\u001b[K\rremote: Counting objects:  78% (70/89)\u001b[K\rremote: Counting objects:  79% (71/89)\u001b[K\rremote: Counting objects:  80% (72/89)\u001b[K\rremote: Counting objects:  82% (73/89)\u001b[K\rremote: Counting objects:  83% (74/89)\u001b[K\rremote: Counting objects:  84% (75/89)\u001b[K\rremote: Counting objects:  85% (76/89)\u001b[K\rremote: Counting objects:  86% (77/89)\u001b[K\rremote: Counting objects:  87% (78/89)\u001b[K\rremote: Counting objects:  88% (79/89)\u001b[K\rremote: Counting objects:  89% (80/89)\u001b[K\rremote: Counting objects:  91% (81/89)\u001b[K\rremote: Counting objects:  92% (82/89)\u001b[K\rremote: Counting objects:  93% (83/89)\u001b[K\rremote: Counting objects:  94% (84/89)\u001b[K\rremote: Counting objects:  95% (85/89)\u001b[K\rremote: Counting objects:  96% (86/89)\u001b[K\rremote: Counting objects:  97% (87/89)\u001b[K\rremote: Counting objects:  98% (88/89)\u001b[K\rremote: Counting objects: 100% (89/89)\u001b[K\rremote: Counting objects: 100% (89/89), done.\u001b[K\n",
            "remote: Compressing objects: 100% (83/83), done.\u001b[K\n",
            "remote: Total 89 (delta 33), reused 0 (delta 0), pack-reused 0\u001b[K\n",
            "Unpacking objects: 100% (89/89), done.\n",
            "/content/MachineLearning/objectdetection/MachineLearning/objectdetection/MachineLearning\n",
            "/content/MachineLearning/objectdetection/MachineLearning/objectdetection/MachineLearning/objectdetection\n"
          ],
          "name": "stdout"
        }
      ]
    },
    {
      "cell_type": "code",
      "metadata": {
        "id": "d9dsU11IXkn_",
        "colab_type": "code",
        "colab": {}
      },
      "source": [
        "import os\n",
        "import urllib.request\n",
        "import zipfile\n",
        "import tarfile"
      ],
      "execution_count": 0,
      "outputs": []
    },
    {
      "cell_type": "code",
      "metadata": {
        "id": "0QCvW2cJXoDN",
        "colab_type": "code",
        "colab": {}
      },
      "source": [
        "# フォルダ「data」が存在しない場合は作成する\n",
        "data_dir = \"./data/\"\n",
        "if not os.path.exists(data_dir):\n",
        "    os.mkdir(data_dir)"
      ],
      "execution_count": 0,
      "outputs": []
    },
    {
      "cell_type": "code",
      "metadata": {
        "id": "WLvcBCddZyDr",
        "colab_type": "code",
        "colab": {}
      },
      "source": [
        "# フォルダ「weights」が存在しない場合は作成する\n",
        "weights_dir = \"./weights/\"\n",
        "if not os.path.exists(weights_dir):\n",
        "    os.mkdir(weights_dir)"
      ],
      "execution_count": 0,
      "outputs": []
    },
    {
      "cell_type": "code",
      "metadata": {
        "id": "lbs_z61HZzHK",
        "colab_type": "code",
        "colab": {}
      },
      "source": [
        "# VOC2012のデータセットをダウンロード\n",
        "url = \"http://host.robots.ox.ac.uk/pascal/VOC/voc2012/VOCtrainval_11-May-2012.tar\"\n",
        "target_path = os.path.join(data_dir, \"VOCtrainval_11-May-2012.tar\") \n",
        "\n",
        "if not os.path.exists(target_path):\n",
        "    urllib.request.urlretrieve(url, target_path)\n",
        "    \n",
        "    tar = tarfile.TarFile(target_path)  # tarファイルを読み込み\n",
        "    tar.extractall(data_dir)  # tarを解凍\n",
        "    tar.close()  # tarファイルをクローズ"
      ],
      "execution_count": 0,
      "outputs": []
    },
    {
      "cell_type": "code",
      "metadata": {
        "id": "a97kE5JFZ45l",
        "colab_type": "code",
        "colab": {}
      },
      "source": [
        "# 学習済みのSSD用のVGGのパラメータをフォルダ「weights」にダウンロード\n",
        "# MIT License\n",
        "# Copyright (c) 2017 Max deGroot, Ellis Brown\n",
        "# https://github.com/amdegroot/ssd.pytorch\n",
        "    \n",
        "url = \"https://s3.amazonaws.com/amdegroot-models/vgg16_reducedfc.pth\"\n",
        "target_path = os.path.join(weights_dir, \"vgg16_reducedfc.pth\") \n",
        "\n",
        "if not os.path.exists(target_path):\n",
        "  urllib.request.urlretrieve(url, target_path)"
      ],
      "execution_count": 0,
      "outputs": []
    },
    {
      "cell_type": "code",
      "metadata": {
        "id": "J3yXzALhZ8L4",
        "colab_type": "code",
        "colab": {}
      },
      "source": [
        "# 学習済みのSSD300モデルをフォルダ「weights」にダウンロード\n",
        "# MIT License\n",
        "# Copyright (c) 2017 Max deGroot, Ellis Brown\n",
        "# https://github.com/amdegroot/ssd.pytorch\n",
        "\n",
        "url = \"https://s3.amazonaws.com/amdegroot-models/ssd300_mAP_77.43_v2.pth\"\n",
        "target_path = os.path.join(weights_dir, \"ssd300_mAP_77.43_v2.pth\") \n",
        "\n",
        "if not os.path.exists(target_path):\n",
        "  urllib.request.urlretrieve(url, target_path)"
      ],
      "execution_count": 0,
      "outputs": []
    },
    {
      "cell_type": "markdown",
      "metadata": {
        "id": "tomWkSXOk1XJ",
        "colab_type": "text"
      },
      "source": [
        "## 各種パッケージのインポート"
      ]
    },
    {
      "cell_type": "code",
      "metadata": {
        "id": "DlDF4putMiv1",
        "colab_type": "code",
        "colab": {}
      },
      "source": [
        "# パッケージのimport\n",
        "import os.path as osp\n",
        "import random\n",
        "# XMLをファイルやテキストから読み込んだり、加工したり、保存したりするためのライブラリ\n",
        "import xml.etree.ElementTree as ET\n",
        "\n",
        "import cv2\n",
        "import matplotlib.pyplot as plt\n",
        "import numpy as np\n",
        "import torch\n",
        "import torch.utils.data as data\n",
        "%matplotlib inline\n",
        "\n",
        "import torch\n",
        "import torch.nn as nn\n",
        "import torch.optim as optim\n",
        "import torch.utils.data as data\n",
        "import torchvision\n",
        "from torchvision import models, transforms\n"
      ],
      "execution_count": 0,
      "outputs": []
    },
    {
      "cell_type": "code",
      "metadata": {
        "id": "2rrWG12Ek_7V",
        "colab_type": "code",
        "colab": {}
      },
      "source": [
        "# 乱数のシードを設定\n",
        "torch.manual_seed(1234)\n",
        "np.random.seed(1234)\n",
        "random.seed(1234)"
      ],
      "execution_count": 0,
      "outputs": []
    },
    {
      "cell_type": "code",
      "metadata": {
        "id": "kM0TZEYCN3f8",
        "colab_type": "code",
        "outputId": "d733bf81-b156-4ec8-cf9c-e3e4346aaae6",
        "colab": {
          "base_uri": "https://localhost:8080/",
          "height": 51
        }
      },
      "source": [
        "print(\"PyTorch Version\", torch.__version__)\n",
        "print(\"Torchvision Version\", torchvision.__version__)"
      ],
      "execution_count": 0,
      "outputs": [
        {
          "output_type": "stream",
          "text": [
            "PyTorch Version 1.1.0\n",
            "Torchvision Version 0.3.0\n"
          ],
          "name": "stdout"
        }
      ]
    },
    {
      "cell_type": "markdown",
      "metadata": {
        "id": "kMUl9KnndFP9",
        "colab_type": "text"
      },
      "source": [
        "## 画像データ、アノテーションデータへのファイルパスのリスト作成"
      ]
    },
    {
      "cell_type": "code",
      "metadata": {
        "id": "IZJyH1mGdO2o",
        "colab_type": "code",
        "colab": {}
      },
      "source": [
        "def make_datapath_list(rootpath):\n",
        "  # 画像ファイルとアノテーションファイルへのパスのテンプレートを作成\n",
        "  imgpath_template = osp.join(rootpath, 'JPEGImages', '%s.jpg')\n",
        "  annopath_template = osp.join(rootpath, 'Annotations', '%s.xml')\n",
        "  \n",
        "  # 訓練と検証、それぞれのファイルのID（ファイル名）を取得する\n",
        "  train_id_names = osp.join(rootpath + 'ImageSets/Main/train.txt')\n",
        "  val_id_names = osp.join(rootpath + 'ImageSets/Main/val.txt')\n",
        "\n",
        "  # 訓練データの画像ファイルとアノテーションファイルへのパスリストを作成\n",
        "  train_img_list = list()\n",
        "  train_anno_list = list()\n",
        "\n",
        "  for line in open(train_id_names):\n",
        "    file_id = line.strip() # 空白スペースと改行を除去\n",
        "    img_path = (imgpath_template % file_id) # 画像のパス\n",
        "    anno_path = (annopath_template % file_id) # アノテーションのパス\n",
        "    train_img_list.append(img_path) # リストに追加\n",
        "    train_anno_list.append(anno_path) # リストに追加\n",
        "\n",
        "\n",
        "  # 検証データの画像ファイルとアノテーションファイルへのパスリストを作成\n",
        "  val_img_list = list()\n",
        "  val_anno_list = list()\n",
        "\n",
        "  for line in open(val_id_names):\n",
        "    file_id = line.strip() # 空白スペースと改行を除去\n",
        "    img_path = (imgpath_template % file_id) # 画像のパス\n",
        "    anno_path = (annopath_template % file_id) # アノテーションのパス\n",
        "    val_img_list.append(img_path) # リストに追加\n",
        "    val_anno_list.append(anno_path) # リストに追加\n",
        "\n",
        "  \n",
        "  return train_img_list, train_anno_list, val_img_list, val_anno_list\n"
      ],
      "execution_count": 0,
      "outputs": []
    },
    {
      "cell_type": "code",
      "metadata": {
        "id": "r0rVJiysdPY8",
        "colab_type": "code",
        "outputId": "27ba0535-9fdc-4314-9606-90609e7fc462",
        "colab": {
          "base_uri": "https://localhost:8080/",
          "height": 51
        }
      },
      "source": [
        "# 動作確認\n",
        "rootpath = \"./data/VOCdevkit/VOC2012/\"\n",
        "\n",
        "train_img_list, train_anno_list, val_img_list, val_anno_list = make_datapath_list(rootpath)\n",
        "\n",
        "print(train_img_list[0])\n",
        "print(train_anno_list[0])"
      ],
      "execution_count": 0,
      "outputs": [
        {
          "output_type": "stream",
          "text": [
            "./data/VOCdevkit/VOC2012/JPEGImages/2008_000008.jpg\n",
            "./data/VOCdevkit/VOC2012/Annotations/2008_000008.xml\n"
          ],
          "name": "stdout"
        }
      ]
    },
    {
      "cell_type": "markdown",
      "metadata": {
        "id": "LJNe5_MEhmW5",
        "colab_type": "text"
      },
      "source": [
        "## アノテーションデータをxml形式からリストへ変換"
      ]
    },
    {
      "cell_type": "code",
      "metadata": {
        "id": "50obkOIzhlnB",
        "colab_type": "code",
        "colab": {}
      },
      "source": [
        "class Anno_xml2list(object):\n",
        "\n",
        "  def __init__(self, classes):\n",
        "    self.classes = classes\n",
        "\n",
        "  def __call__(self, xml_path, width, height):\n",
        "    \n",
        "    ret = []\n",
        "\n",
        "    # xmlファイルを読み込む\n",
        "    xml = ET.parse(xml_path).getroot()\n",
        "\n",
        "    # 画像内のobjectの数だけループ\n",
        "    for obj in xml.iter('object'):\n",
        "\n",
        "      # アノテーションで検知がdifficultに設定(1と表示)されているものは除外\n",
        "      difficult = int(obj.find('difficult').text)\n",
        "      if difficult == 1:\n",
        "        continue\n",
        "      \n",
        "      # １つの物体に対するアノテーションを格納するリスト\n",
        "      bndbox = []\n",
        "\n",
        "      name = obj.find('name').text.lower().strip() # 物体名（小文字にして空白・改行除去）\n",
        "      bbox = obj.find('bndbox') # バウンディングボックスの情報\n",
        "\n",
        "      # アノテーションのxmin, ymin, xmax, ymaxを取得し、0~1に規格化\n",
        "      pts = ['xmin', 'ymin', 'xmax', 'ymax']\n",
        "\n",
        "      for pt in (pts):\n",
        "        # VOCは原点が(1, 1)なので、1を引いて(0, 0)にする\n",
        "        cur_pixel = int(bbox.find(pt).text) - 1\n",
        "\n",
        "        # 幅、高さで規格化\n",
        "        if pt == 'xmin' or 'xmax': # x方向の時は幅(width)で割る\n",
        "          cur_pixel /= width\n",
        "\n",
        "        else: # y方向の時は高さ(height)で割る\n",
        "          cur_pixel /= height\n",
        "\n",
        "        bndbox.append(cur_pixel)\n",
        "\n",
        "      \n",
        "      label_idx = self.classes.index(name)\n",
        "      bndbox.append(label_idx)\n",
        "\n",
        "      # ret に[xmin, ymin, xmax, ymax, label_idx]を足す\n",
        "      ret += [bndbox]\n",
        "\n",
        "    return np.array(ret)\n"
      ],
      "execution_count": 0,
      "outputs": []
    },
    {
      "cell_type": "code",
      "metadata": {
        "id": "5HmZvNkJodIW",
        "colab_type": "code",
        "outputId": "8ca52190-cd9e-4073-8abf-98ef3657ac9c",
        "colab": {
          "base_uri": "https://localhost:8080/",
          "height": 51
        }
      },
      "source": [
        "# 動作確認\n",
        "voc_classes = ['aeroplane', 'bicycle', 'bird', 'boat',\n",
        "               'bottle', 'bus', 'car', 'cat', 'chair',\n",
        "               'cow', 'diningtable', 'dog', 'horse',\n",
        "               'motorbike', 'person', 'pottedplant',\n",
        "               'sheep', 'sofa', 'train', 'tvmonitor']\n",
        "\n",
        "transform_anno = Anno_xml2list(voc_classes)\n",
        "\n",
        "ind = 1\n",
        "image_file_path = val_img_list[ind]\n",
        "img = cv2.imread(image_file_path) # OpenCVを使用して指定した画像を読み込む\n",
        "height, width, channels = img.shape\n",
        "\n",
        "# アノテーションをリストで表示[xmin, ymin, xmax, ymax, label_idx]\n",
        "transform_anno(val_anno_list[ind], width, height)"
      ],
      "execution_count": 0,
      "outputs": [
        {
          "output_type": "execute_result",
          "data": {
            "text/plain": [
              "array([[ 0.09 ,  0.02 ,  0.998,  0.664, 18.   ],\n",
              "       [ 0.122,  0.378,  0.164,  0.484, 14.   ]])"
            ]
          },
          "metadata": {
            "tags": []
          },
          "execution_count": 44
        }
      ]
    },
    {
      "cell_type": "markdown",
      "metadata": {
        "id": "_ii0T3dyqfXP",
        "colab_type": "text"
      },
      "source": [
        "## 画像とアノテーションの前処理を行うクラスDataTransformを作成"
      ]
    },
    {
      "cell_type": "code",
      "metadata": {
        "id": "c43x-LcNqvcT",
        "colab_type": "code",
        "colab": {}
      },
      "source": [
        "# utils内のdata_augumentation.py から import\n",
        "from utils.data_augumentation import Compose, ConvertFromInts, ToAbsoluteCoords, PhotometricDistort, Expand, RandomSampleCrop, RandomMirror, ToPercentCoords, Resize, SubtractMeans"
      ],
      "execution_count": 0,
      "outputs": []
    },
    {
      "cell_type": "code",
      "metadata": {
        "id": "ab0zAyO7yTij",
        "colab_type": "code",
        "colab": {}
      },
      "source": [
        "class DataTransform():\n",
        "\n",
        "  def __init__(self, input_size, color_mean):\n",
        "    self.data_transform = {\n",
        "        'train' : Compose([\n",
        "                ConvertFromInts(), # intをfloat32に変換\n",
        "                ToAbsoluteCoords(), # アノテーションデータの規格化を戻す\n",
        "                PhotometricDistort(), # 画像の色調等をランダムに変化\n",
        "                Expand(color_mean), # 画像のキャンバスを広げる\n",
        "                RandomSampleCrop(), # 画像内の部分をランダムに抜き出す\n",
        "                RandomMirror(), # 画像をランダムに反転させる\n",
        "                ToPercentCoords(), # アノテーションデータを0-1に規格化                      \n",
        "                Resize(input_size), # 画像サイズを input_size * input_size に変形\n",
        "                SubtractMeans(color_mean) # BGRの色の平均値を引き算\n",
        "                ]),\n",
        "        'val' : Compose([\n",
        "                ConvertFromInts(), # intをfloat32に変換                     \n",
        "                Resize(input_size), # 画像サイズを input_size * input_size に変形\n",
        "                SubtractMeans(color_mean) # BGRの色の平均値を引き算\n",
        "                ])\n",
        "    }\n",
        "\n",
        "  def __call__(self, img, phase, boxes, labels):\n",
        "\n",
        "    return self.data_transform[phase](img, boxes, labels)"
      ],
      "execution_count": 0,
      "outputs": []
    },
    {
      "cell_type": "code",
      "metadata": {
        "id": "uALbzFzF1KG6",
        "colab_type": "code",
        "outputId": "3e3c3427-85b7-47ed-c411-ec05928b3c28",
        "colab": {
          "base_uri": "https://localhost:8080/",
          "height": 807
        }
      },
      "source": [
        "# 動作確認\n",
        "\n",
        "# 1.画像読み込み\n",
        "image_file_path = val_img_list[0]\n",
        "img = cv2.imread(image_file_path) # OpenCVを使用して指定した画像を読み込む\n",
        "height, width, channels = img.shape\n",
        "\n",
        "# 2.アノテーションをリストに\n",
        "transform_anno = Anno_xml2list(voc_classes)\n",
        "anno_list = transform_anno(val_anno_list[0], width, height)\n",
        "\n",
        "# 3.元画像の表示\n",
        "plt.imshow(cv2.cvtColor(img, cv2.COLOR_BGR2RGB))\n",
        "plt.show()\n",
        "\n",
        "# 4.前処理クラスの作成\n",
        "color_mean = (104, 117, 123) # (BGR)の色の平均値\n",
        "input_size = 300 # 画像の input size を300にする\n",
        "transform = DataTransform(input_size, color_mean)\n",
        "\n",
        "# 5.train画像の表示\n",
        "phase = \"train\"\n",
        "img_transformed, boxes, labels = transform(\n",
        "    img, phase, anno_list[:, :4], anno_list[:, 4])\n",
        "plt.imshow(cv2.cvtColor(img_transformed, cv2.COLOR_BGR2RGB))\n",
        "plt.show()\n",
        "\n",
        "# 6.val画像の表示\n",
        "phase = \"val\"\n",
        "img_transformed, boxes, labels = transform(\n",
        "    img, phase, anno_list[:, :4], anno_list[:, 4])\n",
        "plt.imshow(cv2.cvtColor(img_transformed, cv2.COLOR_BGR2RGB))\n",
        "plt.show()"
      ],
      "execution_count": 0,
      "outputs": [
        {
          "output_type": "display_data",
          "data": {
            "image/png": "[encoded data removed]",
            "text/plain": [
              "<Figure size 432x288 with 1 Axes>"
            ]
          },
          "metadata": {
            "tags": []
          }
        },
        {
          "output_type": "stream",
          "text": [
            "Clipping input data to the valid range for imshow with RGB data ([0..1] for floats or [0..255] for integers).\n"
          ],
          "name": "stderr"
        },
        {
          "output_type": "display_data",
          "data": {
            "image/png": "[encoded data removed]",
            "text/plain": [
              "<Figure size 432x288 with 1 Axes>"
            ]
          },
          "metadata": {
            "tags": []
          }
        },
        {
          "output_type": "stream",
          "text": [
            "Clipping input data to the valid range for imshow with RGB data ([0..1] for floats or [0..255] for integers).\n"
          ],
          "name": "stderr"
        },
        {
          "output_type": "display_data",
          "data": {
            "image/png": "[encoded data removed]",
            "text/plain": [
              "<Figure size 432x288 with 1 Axes>"
            ]
          },
          "metadata": {
            "tags": []
          }
        }
      ]
    },
    {
      "cell_type": "markdown",
      "metadata": {
        "id": "KtEldZ15l_ZO",
        "colab_type": "text"
      },
      "source": [
        "## Datasetの作成"
      ]
    },
    {
      "cell_type": "code",
      "metadata": {
        "id": "0YZ1ekOr5CQe",
        "colab_type": "code",
        "colab": {}
      },
      "source": [
        "# VOC2012のデータセットを作成する\n",
        "\n",
        "class VOCDataset(data.Dataset):\n",
        "\n",
        "  def __init__(self, img_list, anno_list, phase, transform, transform_anno):\n",
        "    self.img_list = img_list\n",
        "    self.anno_list = anno_list\n",
        "    self.phase = phase\n",
        "    self.transform = transform\n",
        "    self.transform_anno = transform_anno\n",
        "\n",
        "  def __len__(self): # 画像の枚数を返す\n",
        "    return len(self.img_list)\n",
        "\n",
        "  def __getitem__(self, index): # 前処理をした画像のテンソル形式のデータとアノテーションを取得\n",
        "    im, gt, h, w = self.pull_item(index)\n",
        "    return im, gt\n",
        "\n",
        "  def pull_item(self, index):\n",
        "\n",
        "    # 1.画像読み込み\n",
        "    image_file_path = self.img_list[index]\n",
        "    img = cv2.imread(image_file_path) # OpenCVを使用して指定した画像を読み込む\n",
        "    height, width, channels = img.shape\n",
        "    \n",
        "    # 2.アノテーションをリストに\n",
        "    anno_file_path = self.anno_list[index]\n",
        "    anno_list = self.transform_anno(anno_file_path, width, height)\n",
        "    \n",
        "    # 3.前処理を実施\n",
        "    img, boxes, labels = transform(\n",
        "        img, self.phase, anno_list[:, :4], anno_list[:, 4])\n",
        "    \n",
        "    # BGR->RGB、(h, w, c)->(c, h, w)に変更\n",
        "    img = torch.from_numpy(img[:, :, (2, 1, 0)]).permute(2, 0, 1)\n",
        "\n",
        "    # BBoxとラベルをセットにしたnp.arrayを作成(gt:ground truth)\n",
        "    gt = np.hstack((boxes, np.expand_dims(labels, axis=1)))\n",
        "\n",
        "    return img, gt, height, width\n"
      ],
      "execution_count": 0,
      "outputs": []
    },
    {
      "cell_type": "code",
      "metadata": {
        "id": "RuTERaLP8WiV",
        "colab_type": "code",
        "outputId": "79e21e1a-6506-4752-cfb3-3de1d761ec70",
        "colab": {
          "base_uri": "https://localhost:8080/",
          "height": 731
        }
      },
      "source": [
        "# 動作確認\n",
        "color_mean = (104, 117, 123) # (BGR)の色の平均値\n",
        "input_size = 300 # 画像の input size を300にする\n",
        "\n",
        "train_dataset = VOCDataset(train_img_list, train_anno_list, phase=\"train\", \n",
        "                           transform=DataTransform(input_size, color_mean), \n",
        "                           transform_anno=Anno_xml2list(voc_classes))\n",
        "\n",
        "val_dataset = VOCDataset(val_img_list, val_anno_list, phase=\"val\", \n",
        "                         transform=DataTransform(input_size, color_mean), \n",
        "                         transform_anno=Anno_xml2list(voc_classes))\n",
        "\n",
        "val_dataset.__getitem__(1)"
      ],
      "execution_count": 0,
      "outputs": [
        {
          "output_type": "execute_result",
          "data": {
            "text/plain": [
              "(tensor([[[   0.9417,    6.1650,   11.1283,  ...,  -22.9082,  -13.2200,\n",
              "             -9.4034],\n",
              "          [   6.4367,    9.6600,   13.8283,  ...,  -21.4433,  -18.6500,\n",
              "            -18.2033],\n",
              "          [  10.8833,   13.5500,   16.7000,  ...,  -20.9917,  -24.5250,\n",
              "            -25.1917],\n",
              "          ...,\n",
              "          [ -23.9501,  -14.9000,   -1.7583,  ..., -108.6083, -111.0000,\n",
              "           -117.8083],\n",
              "          [ -28.2816,  -20.1750,   -5.5633,  ..., -104.9934, -111.8350,\n",
              "           -119.0000],\n",
              "          [ -20.4766,  -21.0000,  -12.6334,  ..., -107.1685, -115.7800,\n",
              "           -117.1100]],\n",
              " \n",
              "         [[  25.9417,   30.1650,   35.1283,  ...,  -18.0766,  -14.7250,\n",
              "            -11.8534],\n",
              "          [  31.4367,   33.6600,   37.8283,  ...,  -13.5016,  -10.8250,\n",
              "            -10.3783],\n",
              "          [  35.7917,   37.5500,   40.7000,  ...,  -11.8417,  -13.0750,\n",
              "            -14.0167],\n",
              "          ...,\n",
              "          [  -1.9501,    7.1000,   20.2417,  ..., -101.9083, -102.0000,\n",
              "           -109.7167],\n",
              "          [  -6.2816,    1.8250,   16.4367,  ..., -100.0517, -103.6700,\n",
              "           -111.0000],\n",
              "          [   1.5234,    1.0000,    9.3666,  ..., -102.5017, -107.7800,\n",
              "           -109.1100]],\n",
              " \n",
              "         [[  45.2750,   55.1650,   62.1283,  ...,   12.8501,   22.0550,\n",
              "             27.8166],\n",
              "          [  50.8800,   58.3300,   64.4983,  ...,   15.8351,   21.5150,\n",
              "             22.7967],\n",
              "          [  56.0667,   60.5500,   65.1500,  ...,   15.6416,   14.8250,\n",
              "             14.7083],\n",
              "          ...,\n",
              "          [  36.7166,   43.1000,   56.2417,  ...,  -94.7583,  -96.0000,\n",
              "           -101.9000],\n",
              "          [  32.3850,   37.8250,   52.4367,  ...,  -92.1617,  -96.0000,\n",
              "           -101.8867],\n",
              "          [  40.1900,   37.0000,   45.3666,  ...,  -94.5017,  -99.7800,\n",
              "            -99.1466]]]), array([[ 0.09 ,  0.02 ,  0.998,  0.664, 18.   ],\n",
              "        [ 0.122,  0.378,  0.164,  0.484, 14.   ]]))"
            ]
          },
          "metadata": {
            "tags": []
          },
          "execution_count": 54
        }
      ]
    },
    {
      "cell_type": "markdown",
      "metadata": {
        "id": "WdE0TX2-sL5D",
        "colab_type": "text"
      },
      "source": [
        "## DataLoaderを作成"
      ]
    },
    {
      "cell_type": "code",
      "metadata": {
        "id": "eBE4G0R3-FTw",
        "colab_type": "code",
        "colab": {}
      },
      "source": [
        "def od_collate_fn(batch):\n",
        "\n",
        "  targets = []\n",
        "  imgs = []\n",
        "  for sample in batch:\n",
        "    imgs.append(sample[0])\n",
        "    targets.append(torch.FloatTensor(sample[1]))\n",
        "\n",
        "  # imgs:(c, w, h)->(b, c, w, h)\n",
        "  imgs = torch.stack(imgs, dim=0) \n",
        "\n",
        "  # targets:(n, 5) \n",
        "  # n:画像内の物体数(画像毎に異なる)、5:[xmin, ymin, xmax, ymax, class_index]\n",
        "\n",
        "  return imgs, targets"
      ],
      "execution_count": 0,
      "outputs": []
    },
    {
      "cell_type": "code",
      "metadata": {
        "id": "aE79lxkRsLMS",
        "colab_type": "code",
        "outputId": "b10ed866-2ff8-4598-9e50-83e1b1d42162",
        "colab": {
          "base_uri": "https://localhost:8080/",
          "height": 68
        }
      },
      "source": [
        "# ミニバッチのサイズ\n",
        "batch_size = 4\n",
        "\n",
        "# DataLoaderの作成\n",
        "train_dataloader = data.DataLoader(\n",
        "    train_dataset, batch_size=batch_size, shuffle=True, collate_fn=od_collate_fn)\n",
        "\n",
        "val_dataloader = data.DataLoader(\n",
        "    val_dataset, batch_size=batch_size, shuffle=False, collate_fn=od_collate_fn)\n",
        "\n",
        "# 辞書型変数にまとめる\n",
        "dataloaders_dict = {\"train\": train_dataloader, \"val\": val_dataloader}\n",
        "\n",
        "\n",
        "# 動作確認\n",
        "batch_iterator = iter(dataloaders_dict[\"val\"])\n",
        "images, targets = next(batch_iterator)\n",
        "\n",
        "print(images.size()) #(b, c, w, h)\n",
        "print(len(targets)) \n",
        "print(targets[1].size()) # (n, 5)"
      ],
      "execution_count": 0,
      "outputs": [
        {
          "output_type": "stream",
          "text": [
            "torch.Size([4, 3, 300, 300])\n",
            "4\n",
            "torch.Size([2, 5])\n"
          ],
          "name": "stdout"
        }
      ]
    },
    {
      "cell_type": "code",
      "metadata": {
        "id": "7PDGikYfD2xm",
        "colab_type": "code",
        "outputId": "8c407959-474b-4150-e46f-bae9a1105333",
        "colab": {
          "base_uri": "https://localhost:8080/",
          "height": 51
        }
      },
      "source": [
        "print(train_dataset.__len__())\n",
        "print(val_dataset.__len__())"
      ],
      "execution_count": 0,
      "outputs": [
        {
          "output_type": "stream",
          "text": [
            "5717\n",
            "5823\n"
          ],
          "name": "stdout"
        }
      ]
    },
    {
      "cell_type": "markdown",
      "metadata": {
        "id": "j-44CQk23exo",
        "colab_type": "text"
      },
      "source": [
        "以下作成中・・・・・"
      ]
    },
    {
      "cell_type": "markdown",
      "metadata": {
        "id": "5KLCbwC6y8ol",
        "colab_type": "text"
      },
      "source": [
        "## ネットワークモデルの作成"
      ]
    },
    {
      "cell_type": "markdown",
      "metadata": {
        "id": "7MU7bAh40d4V",
        "colab_type": "text"
      },
      "source": [
        "## 損失関数を定義"
      ]
    },
    {
      "cell_type": "markdown",
      "metadata": {
        "id": "5pOyAg280zsz",
        "colab_type": "text"
      },
      "source": [
        "## 最適化手法の設定"
      ]
    },
    {
      "cell_type": "markdown",
      "metadata": {
        "id": "wOOLIHTw2v45",
        "colab_type": "text"
      },
      "source": [
        "## 学習・検証"
      ]
    },
    {
      "cell_type": "code",
      "metadata": {
        "id": "sWSjqyzzQoaa",
        "colab_type": "code",
        "colab": {}
      },
      "source": [
        ""
      ],
      "execution_count": 0,
      "outputs": []
    }
  ]
}